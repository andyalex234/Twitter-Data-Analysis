{
 "cells": [
  {
   "cell_type": "markdown",
   "metadata": {},
   "source": [
    "# EDA"
   ]
  },
  {
   "cell_type": "code",
   "execution_count": 13,
   "metadata": {},
   "outputs": [],
   "source": [
    "#imports\n",
    "import os\n",
    "import sys\n",
    "import pandas as pd\n",
    "import matplotlib.pyplot as plt\n",
    "\n",
    "sys.path.append(\".\")\n",
    "sys.path.append(\"..\")\n",
    "\n",
    "from clean_tweets_dataframe import Clean_Tweets"
   ]
  },
  {
   "cell_type": "code",
   "execution_count": 14,
   "metadata": {},
   "outputs": [],
   "source": [
    "# reading data\n",
    "tweet_df = pd.read_csv('../data/processed_tweet_data.csv')"
   ]
  },
  {
   "cell_type": "code",
   "execution_count": 15,
   "metadata": {},
   "outputs": [
    {
     "name": "stdout",
     "output_type": "stream",
     "text": [
      "Automation in Action...!!!\n"
     ]
    },
    {
     "data": {
      "text/html": [
       "<div>\n",
       "<style scoped>\n",
       "    .dataframe tbody tr th:only-of-type {\n",
       "        vertical-align: middle;\n",
       "    }\n",
       "\n",
       "    .dataframe tbody tr th {\n",
       "        vertical-align: top;\n",
       "    }\n",
       "\n",
       "    .dataframe thead th {\n",
       "        text-align: right;\n",
       "    }\n",
       "</style>\n",
       "<table border=\"1\" class=\"dataframe\">\n",
       "  <thead>\n",
       "    <tr style=\"text-align: right;\">\n",
       "      <th></th>\n",
       "      <th>created_at</th>\n",
       "      <th>source</th>\n",
       "      <th>original_text</th>\n",
       "      <th>polarity</th>\n",
       "      <th>subjectivity</th>\n",
       "      <th>lang</th>\n",
       "      <th>favorite_count</th>\n",
       "      <th>retweet_count</th>\n",
       "      <th>original_author</th>\n",
       "      <th>followers_count</th>\n",
       "      <th>friends_count</th>\n",
       "      <th>possibly_sensitive</th>\n",
       "      <th>hashtags</th>\n",
       "      <th>user_mentions</th>\n",
       "      <th>place</th>\n",
       "    </tr>\n",
       "  </thead>\n",
       "  <tbody>\n",
       "    <tr>\n",
       "      <th>0</th>\n",
       "      <td>Sun Aug 07 22:31:20 +0000 2022</td>\n",
       "      <td>Twitter for Android</td>\n",
       "      <td>RT @i_ameztoy: Extra random image (I):\\n\\nLets...</td>\n",
       "      <td>-1.250000e-01</td>\n",
       "      <td>0.190625</td>\n",
       "      <td>en</td>\n",
       "      <td>15760</td>\n",
       "      <td>2</td>\n",
       "      <td>i_ameztoy</td>\n",
       "      <td>20497</td>\n",
       "      <td>2621</td>\n",
       "      <td>NaN</td>\n",
       "      <td>[{'text': 'City', 'indices': [132, 137]}]</td>\n",
       "      <td>[{'screen_name': 'i_ameztoy', 'name': 'Iban Am...</td>\n",
       "      <td>NaN</td>\n",
       "    </tr>\n",
       "    <tr>\n",
       "      <th>1</th>\n",
       "      <td>Sun Aug 07 22:31:16 +0000 2022</td>\n",
       "      <td>Twitter for Android</td>\n",
       "      <td>RT @IndoPac_Info: #China's media explains the ...</td>\n",
       "      <td>-1.000000e-01</td>\n",
       "      <td>0.100000</td>\n",
       "      <td>en</td>\n",
       "      <td>6967</td>\n",
       "      <td>201</td>\n",
       "      <td>ZIisq</td>\n",
       "      <td>65</td>\n",
       "      <td>272</td>\n",
       "      <td>NaN</td>\n",
       "      <td>[{'text': 'China', 'indices': [18, 24]}, {'tex...</td>\n",
       "      <td>[{'screen_name': 'IndoPac_Info', 'name': 'Indo...</td>\n",
       "      <td>NaN</td>\n",
       "    </tr>\n",
       "    <tr>\n",
       "      <th>2</th>\n",
       "      <td>Sun Aug 07 22:31:07 +0000 2022</td>\n",
       "      <td>Twitter for Android</td>\n",
       "      <td>China even cut off communication, they don't a...</td>\n",
       "      <td>0.000000e+00</td>\n",
       "      <td>0.000000</td>\n",
       "      <td>en</td>\n",
       "      <td>2166</td>\n",
       "      <td>0</td>\n",
       "      <td>Fin21Free</td>\n",
       "      <td>85</td>\n",
       "      <td>392</td>\n",
       "      <td>NaN</td>\n",
       "      <td>[{'text': 'XiJinping', 'indices': [127, 137]}]</td>\n",
       "      <td>[{'screen_name': 'ZelenskyyUa', 'name': 'Волод...</td>\n",
       "      <td>Netherlands</td>\n",
       "    </tr>\n",
       "    <tr>\n",
       "      <th>3</th>\n",
       "      <td>Sun Aug 07 22:31:06 +0000 2022</td>\n",
       "      <td>Twitter for Android</td>\n",
       "      <td>Putin to #XiJinping : I told you my friend, Ta...</td>\n",
       "      <td>1.000000e-01</td>\n",
       "      <td>0.350000</td>\n",
       "      <td>en</td>\n",
       "      <td>2166</td>\n",
       "      <td>0</td>\n",
       "      <td>Fin21Free</td>\n",
       "      <td>85</td>\n",
       "      <td>392</td>\n",
       "      <td>NaN</td>\n",
       "      <td>[{'text': 'XiJinping', 'indices': [9, 19]}]</td>\n",
       "      <td>[]</td>\n",
       "      <td>Netherlands</td>\n",
       "    </tr>\n",
       "    <tr>\n",
       "      <th>4</th>\n",
       "      <td>Sun Aug 07 22:31:04 +0000 2022</td>\n",
       "      <td>Twitter for iPhone</td>\n",
       "      <td>RT @ChinaUncensored: I’m sorry, I thought Taiw...</td>\n",
       "      <td>-6.938894e-18</td>\n",
       "      <td>0.556250</td>\n",
       "      <td>en</td>\n",
       "      <td>17247</td>\n",
       "      <td>381</td>\n",
       "      <td>VizziniDolores</td>\n",
       "      <td>910</td>\n",
       "      <td>2608</td>\n",
       "      <td>NaN</td>\n",
       "      <td>[]</td>\n",
       "      <td>[{'screen_name': 'ChinaUncensored', 'name': 'C...</td>\n",
       "      <td>Ayent, Schweiz</td>\n",
       "    </tr>\n",
       "  </tbody>\n",
       "</table>\n",
       "</div>"
      ],
      "text/plain": [
       "                       created_at               source  \\\n",
       "0  Sun Aug 07 22:31:20 +0000 2022  Twitter for Android   \n",
       "1  Sun Aug 07 22:31:16 +0000 2022  Twitter for Android   \n",
       "2  Sun Aug 07 22:31:07 +0000 2022  Twitter for Android   \n",
       "3  Sun Aug 07 22:31:06 +0000 2022  Twitter for Android   \n",
       "4  Sun Aug 07 22:31:04 +0000 2022   Twitter for iPhone   \n",
       "\n",
       "                                       original_text      polarity  \\\n",
       "0  RT @i_ameztoy: Extra random image (I):\\n\\nLets... -1.250000e-01   \n",
       "1  RT @IndoPac_Info: #China's media explains the ... -1.000000e-01   \n",
       "2  China even cut off communication, they don't a...  0.000000e+00   \n",
       "3  Putin to #XiJinping : I told you my friend, Ta...  1.000000e-01   \n",
       "4  RT @ChinaUncensored: I’m sorry, I thought Taiw... -6.938894e-18   \n",
       "\n",
       "   subjectivity lang  favorite_count  retweet_count original_author  \\\n",
       "0      0.190625   en           15760              2       i_ameztoy   \n",
       "1      0.100000   en            6967            201           ZIisq   \n",
       "2      0.000000   en            2166              0       Fin21Free   \n",
       "3      0.350000   en            2166              0       Fin21Free   \n",
       "4      0.556250   en           17247            381  VizziniDolores   \n",
       "\n",
       "   followers_count  friends_count possibly_sensitive  \\\n",
       "0            20497           2621                NaN   \n",
       "1               65            272                NaN   \n",
       "2               85            392                NaN   \n",
       "3               85            392                NaN   \n",
       "4              910           2608                NaN   \n",
       "\n",
       "                                            hashtags  \\\n",
       "0          [{'text': 'City', 'indices': [132, 137]}]   \n",
       "1  [{'text': 'China', 'indices': [18, 24]}, {'tex...   \n",
       "2     [{'text': 'XiJinping', 'indices': [127, 137]}]   \n",
       "3        [{'text': 'XiJinping', 'indices': [9, 19]}]   \n",
       "4                                                 []   \n",
       "\n",
       "                                       user_mentions           place  \n",
       "0  [{'screen_name': 'i_ameztoy', 'name': 'Iban Am...             NaN  \n",
       "1  [{'screen_name': 'IndoPac_Info', 'name': 'Indo...             NaN  \n",
       "2  [{'screen_name': 'ZelenskyyUa', 'name': 'Волод...     Netherlands  \n",
       "3                                                 []     Netherlands  \n",
       "4  [{'screen_name': 'ChinaUncensored', 'name': 'C...  Ayent, Schweiz  "
      ]
     },
     "execution_count": 15,
     "metadata": {},
     "output_type": "execute_result"
    }
   ],
   "source": [
    "#read pre-processed data \n",
    "cleaner = Clean_Tweets(tweet_df.copy())\n",
    "tweet_df.head(5)"
   ]
  },
  {
   "cell_type": "code",
   "execution_count": 16,
   "metadata": {},
   "outputs": [
    {
     "data": {
      "text/plain": [
       "created_at                0\n",
       "source                    0\n",
       "original_text             0\n",
       "polarity                  0\n",
       "subjectivity              0\n",
       "lang                      0\n",
       "favorite_count            0\n",
       "retweet_count             0\n",
       "original_author           0\n",
       "followers_count           0\n",
       "friends_count             0\n",
       "possibly_sensitive    15809\n",
       "hashtags                  0\n",
       "user_mentions             0\n",
       "place                  9893\n",
       "dtype: int64"
      ]
     },
     "execution_count": 16,
     "metadata": {},
     "output_type": "execute_result"
    }
   ],
   "source": [
    "tweet_df.isna().sum()"
   ]
  },
  {
   "cell_type": "code",
   "execution_count": 17,
   "metadata": {},
   "outputs": [
    {
     "data": {
      "text/html": [
       "<div>\n",
       "<style scoped>\n",
       "    .dataframe tbody tr th:only-of-type {\n",
       "        vertical-align: middle;\n",
       "    }\n",
       "\n",
       "    .dataframe tbody tr th {\n",
       "        vertical-align: top;\n",
       "    }\n",
       "\n",
       "    .dataframe thead th {\n",
       "        text-align: right;\n",
       "    }\n",
       "</style>\n",
       "<table border=\"1\" class=\"dataframe\">\n",
       "  <thead>\n",
       "    <tr style=\"text-align: right;\">\n",
       "      <th></th>\n",
       "      <th>polarity</th>\n",
       "      <th>subjectivity</th>\n",
       "      <th>favorite_count</th>\n",
       "      <th>retweet_count</th>\n",
       "      <th>followers_count</th>\n",
       "      <th>friends_count</th>\n",
       "    </tr>\n",
       "  </thead>\n",
       "  <tbody>\n",
       "    <tr>\n",
       "      <th>count</th>\n",
       "      <td>22000.000000</td>\n",
       "      <td>22000.000000</td>\n",
       "      <td>2.200000e+04</td>\n",
       "      <td>22000.000000</td>\n",
       "      <td>2.200000e+04</td>\n",
       "      <td>22000.000000</td>\n",
       "    </tr>\n",
       "    <tr>\n",
       "      <th>mean</th>\n",
       "      <td>0.061325</td>\n",
       "      <td>0.283839</td>\n",
       "      <td>3.791884e+04</td>\n",
       "      <td>177.295636</td>\n",
       "      <td>1.796764e+04</td>\n",
       "      <td>1563.114455</td>\n",
       "    </tr>\n",
       "    <tr>\n",
       "      <th>std</th>\n",
       "      <td>0.223701</td>\n",
       "      <td>0.290963</td>\n",
       "      <td>8.952426e+04</td>\n",
       "      <td>498.320518</td>\n",
       "      <td>3.030478e+05</td>\n",
       "      <td>4358.651264</td>\n",
       "    </tr>\n",
       "    <tr>\n",
       "      <th>min</th>\n",
       "      <td>-1.000000</td>\n",
       "      <td>0.000000</td>\n",
       "      <td>0.000000e+00</td>\n",
       "      <td>0.000000</td>\n",
       "      <td>0.000000e+00</td>\n",
       "      <td>0.000000</td>\n",
       "    </tr>\n",
       "    <tr>\n",
       "      <th>25%</th>\n",
       "      <td>0.000000</td>\n",
       "      <td>0.000000</td>\n",
       "      <td>8.657500e+02</td>\n",
       "      <td>3.000000</td>\n",
       "      <td>5.700000e+01</td>\n",
       "      <td>137.000000</td>\n",
       "    </tr>\n",
       "    <tr>\n",
       "      <th>50%</th>\n",
       "      <td>0.000000</td>\n",
       "      <td>0.200000</td>\n",
       "      <td>7.133000e+03</td>\n",
       "      <td>39.000000</td>\n",
       "      <td>2.840000e+02</td>\n",
       "      <td>487.000000</td>\n",
       "    </tr>\n",
       "    <tr>\n",
       "      <th>75%</th>\n",
       "      <td>0.133333</td>\n",
       "      <td>0.468824</td>\n",
       "      <td>3.425750e+04</td>\n",
       "      <td>187.000000</td>\n",
       "      <td>1.324500e+03</td>\n",
       "      <td>1599.000000</td>\n",
       "    </tr>\n",
       "    <tr>\n",
       "      <th>max</th>\n",
       "      <td>1.000000</td>\n",
       "      <td>1.000000</td>\n",
       "      <td>1.717879e+06</td>\n",
       "      <td>17409.000000</td>\n",
       "      <td>1.449852e+07</td>\n",
       "      <td>208360.000000</td>\n",
       "    </tr>\n",
       "  </tbody>\n",
       "</table>\n",
       "</div>"
      ],
      "text/plain": [
       "           polarity  subjectivity  favorite_count  retweet_count  \\\n",
       "count  22000.000000  22000.000000    2.200000e+04   22000.000000   \n",
       "mean       0.061325      0.283839    3.791884e+04     177.295636   \n",
       "std        0.223701      0.290963    8.952426e+04     498.320518   \n",
       "min       -1.000000      0.000000    0.000000e+00       0.000000   \n",
       "25%        0.000000      0.000000    8.657500e+02       3.000000   \n",
       "50%        0.000000      0.200000    7.133000e+03      39.000000   \n",
       "75%        0.133333      0.468824    3.425750e+04     187.000000   \n",
       "max        1.000000      1.000000    1.717879e+06   17409.000000   \n",
       "\n",
       "       followers_count  friends_count  \n",
       "count     2.200000e+04   22000.000000  \n",
       "mean      1.796764e+04    1563.114455  \n",
       "std       3.030478e+05    4358.651264  \n",
       "min       0.000000e+00       0.000000  \n",
       "25%       5.700000e+01     137.000000  \n",
       "50%       2.840000e+02     487.000000  \n",
       "75%       1.324500e+03    1599.000000  \n",
       "max       1.449852e+07  208360.000000  "
      ]
     },
     "execution_count": 17,
     "metadata": {},
     "output_type": "execute_result"
    }
   ],
   "source": [
    "#stats about the numeriacl columns\n",
    "tweet_df.describe()"
   ]
  },
  {
   "cell_type": "code",
   "execution_count": 18,
   "metadata": {},
   "outputs": [
    {
     "data": {
      "text/plain": [
       "<AxesSubplot: title={'center': 'Top 4 Locations'}, xlabel='Twitters', ylabel='Number of locations'>"
      ]
     },
     "execution_count": 18,
     "metadata": {},
     "output_type": "execute_result"
    },
    {
     "data": {
      "image/png": "[encoded data removed]",
      "text/plain": [
       "<Figure size 640x480 with 1 Axes>"
      ]
     },
     "metadata": {},
     "output_type": "display_data"
    }
   ],
   "source": [
    "# top 4 locations of users\n",
    "fig, ax = plt.subplots()\n",
    "ax.tick_params(axis='x', labelsize=10)\n",
    "ax.tick_params(axis='y', labelsize=10)\n",
    "ax.set_xlabel('Twitters', fontsize=10)\n",
    "ax.set_ylabel('Number of locations' , fontsize=10)\n",
    "ax.set_title('Top 4 Locations', fontsize=10)\n",
    "tweet_df.place.value_counts()[:4].plot(ax=ax, kind='bar', color='orange')"
   ]
  },
  {
   "cell_type": "code",
   "execution_count": 19,
   "metadata": {},
   "outputs": [
    {
     "data": {
      "text/plain": [
       "Twitter for Android    8391\n",
       "Twitter Web App        6791\n",
       "Twitter for iPhone     5212\n",
       "Twitter for iPad        634\n",
       "TweetDeck               171\n",
       "Name: source, dtype: int64"
      ]
     },
     "execution_count": 19,
     "metadata": {},
     "output_type": "execute_result"
    }
   ],
   "source": [
    "#source of tweets\n",
    "tweet_df[\"source\"].value_counts()[:5]"
   ]
  },
  {
   "cell_type": "code",
   "execution_count": 20,
   "metadata": {},
   "outputs": [
    {
     "data": {
      "text/plain": [
       "<AxesSubplot: title={'center': 'Top 5 sources'}, xlabel='Twitters', ylabel='Number of sources'>"
      ]
     },
     "execution_count": 20,
     "metadata": {},
     "output_type": "execute_result"
    },
    {
     "data": {
      "image/png": "[encoded data removed]",
      "text/plain": [
       "<Figure size 640x480 with 1 Axes>"
      ]
     },
     "metadata": {},
     "output_type": "display_data"
    }
   ],
   "source": [
    "# top 5 sources of users\n",
    "fig, ax = plt.subplots()\n",
    "ax.tick_params(axis='x', labelsize=10)\n",
    "ax.tick_params(axis='y', labelsize=10)\n",
    "ax.set_xlabel('Twitters', fontsize=10)\n",
    "ax.set_ylabel('Number of sources' , fontsize=10)\n",
    "ax.set_title('Top 5 sources', fontsize=10)\n",
    "tweet_df.source.value_counts()[:5].plot(ax=ax, kind='bar')"
   ]
  },
  {
   "cell_type": "code",
   "execution_count": 21,
   "metadata": {},
   "outputs": [
    {
     "data": {
      "text/plain": [
       "False    5961\n",
       "True      230\n",
       "Name: possibly_sensitive, dtype: int64"
      ]
     },
     "execution_count": 21,
     "metadata": {},
     "output_type": "execute_result"
    }
   ],
   "source": [
    "# possible sensitive tweets\n",
    "tweet_df[\"possibly_sensitive\"].value_counts()"
   ]
  },
  {
   "cell_type": "code",
   "execution_count": 22,
   "metadata": {},
   "outputs": [
    {
     "data": {
      "image/png": "[encoded data removed]",
      "text/plain": [
       "<Figure size 640x480 with 1 Axes>"
      ]
     },
     "metadata": {},
     "output_type": "display_data"
    }
   ],
   "source": [
    "tweet_df[\"possibly_sensitive\"].value_counts().plot(kind=\"pie\");"
   ]
  },
  {
   "cell_type": "code",
   "execution_count": 23,
   "metadata": {},
   "outputs": [
    {
     "data": {
      "text/plain": [
       " 0.000000    8985\n",
       "-0.100000     973\n",
       " 0.133333     782\n",
       " 0.050000     502\n",
       " 0.500000     502\n",
       "             ... \n",
       "-0.014773       1\n",
       " 0.478788       1\n",
       " 0.059375       1\n",
       " 0.010000       1\n",
       " 0.207143       1\n",
       "Name: polarity, Length: 829, dtype: int64"
      ]
     },
     "execution_count": 23,
     "metadata": {},
     "output_type": "execute_result"
    }
   ],
   "source": [
    "tweet_df[\"polarity\"].value_counts()"
   ]
  },
  {
   "cell_type": "code",
   "execution_count": 24,
   "metadata": {},
   "outputs": [
    {
     "data": {
      "text/plain": [
       "India                        200\n",
       "United States                166\n",
       "Hong Kong                    152\n",
       "Việt Nam                     118\n",
       "Taiwan                        99\n",
       "                            ... \n",
       "Asia and the World             1\n",
       "in my own universe🇺🇦🇪🇺🇸🇪       1\n",
       "Nashville TN /Defiant CA😏      1\n",
       "Maracaibo, Venezuela           1\n",
       "🇺🇲🇷🇺🇺🇦🇫🇷🇦🇪🇮🇱🏳️‍🌈               1\n",
       "Name: place, Length: 4409, dtype: int64"
      ]
     },
     "execution_count": 24,
     "metadata": {},
     "output_type": "execute_result"
    }
   ],
   "source": [
    "tweet_df.place.value_counts()"
   ]
  }
 ],
 "metadata": {
  "kernelspec": {
   "display_name": "twitter_env",
   "language": "python",
   "name": "python3"
  },
  "language_info": {
   "codemirror_mode": {
    "name": "ipython",
    "version": 3
   },
   "file_extension": ".py",
   "mimetype": "text/x-python",
   "name": "python",
   "nbconvert_exporter": "python",
   "pygments_lexer": "ipython3",
   "version": "3.9.12 (main, Apr  5 2022, 06:56:58) \n[GCC 7.5.0]"
  },
  "orig_nbformat": 4,
  "vscode": {
   "interpreter": {
    "hash": "f97b884d30aa9d0f6ac58f732762b8f168756367ad419ea91173f0b3c67bd847"
   }
  }
 },
 "nbformat": 4,
 "nbformat_minor": 2
}
